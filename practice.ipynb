{
 "cells": [
  {
   "cell_type": "code",
   "execution_count": 9,
   "metadata": {},
   "outputs": [],
   "source": [
    "import pandas as pd\n",
    "BASE_DIR ='./football.xlsx'\n",
    "players = pd.read_excel(BASE_DIR, sheet_name=[\"QBs\",'RBs','WRs','TEs','Ks','DEFs','All','By Post','League Boundaries','Vars','Notes','Sheet2'])"
   ]
  },
  {
   "cell_type": "code",
   "execution_count": 42,
   "metadata": {},
   "outputs": [],
   "source": [
    "qbs = players.get('QBs')\n",
    "rbs = players.get('RBs')\n",
    "wrs = players.get('WRs')\n",
    "tes = players.get('TEs')"
   ]
  },
  {
   "cell_type": "code",
   "execution_count": 31,
   "metadata": {},
   "outputs": [],
   "source": [
    "wrs.sort_values(by = 'CATCH', inplace= True, ascending=False )\n"
   ]
  },
  {
   "cell_type": "code",
   "execution_count": 40,
   "metadata": {},
   "outputs": [],
   "source": [
    "wrs =wrs.dropna()"
   ]
  },
  {
   "cell_type": "code",
   "execution_count": 43,
   "metadata": {},
   "outputs": [
    {
     "name": "stdout",
     "output_type": "stream",
     "text": [
      "    Last Name First Name      Team  Bye Pos  PASS YDS  PASS TD  INT  RUSH YDS  \\\n",
      "0        Kupp     Cooper      Rams    7  WR       NaN      NaN  NaN       NaN   \n",
      "5       Adams    Davante   Raiders    6  WR       NaN      NaN  NaN       NaN   \n",
      "20      Allen     Keenan  Chargers    8  WR       NaN      NaN  NaN       NaN   \n",
      "4       Diggs     Stefon     Bills    7  WR       NaN      NaN  NaN       NaN   \n",
      "17  St. Brown    Amon-Ra     Lions    6  WR       NaN      NaN  NaN       NaN   \n",
      "..        ...        ...       ...  ...  ..       ...      ...  ...       ...   \n",
      "81      Jones      Velus     Bears   14  WR       NaN      NaN  NaN       NaN   \n",
      "91   Marshall    Terrace  Panthers   13  WR       NaN      NaN  NaN       NaN   \n",
      "93    Metchie       John    Texans    6  WR       NaN      NaN  NaN       NaN   \n",
      "92    Patrick        Tim   Broncos    9  WR       NaN      NaN  NaN       NaN   \n",
      "94     Ridley     Calvin   Falcons   14  WR       NaN      NaN  NaN       NaN   \n",
      "\n",
      "    CATCH  ...  TD VBD  Points (2QB)  VBD 2QB  Points (Custom)  VBD Custom  \\\n",
      "0     132  ...     NaN           NaN      NaN              NaN         NaN   \n",
      "5     114  ...     NaN           NaN      NaN              NaN         NaN   \n",
      "20    105  ...     NaN           NaN      NaN              NaN         NaN   \n",
      "4     105  ...     NaN           NaN      NaN              NaN         NaN   \n",
      "17    103  ...     NaN           NaN      NaN              NaN         NaN   \n",
      "..    ...  ...     ...           ...      ...              ...         ...   \n",
      "81     35  ...     NaN           NaN      NaN              NaN         NaN   \n",
      "91     34  ...     NaN           NaN      NaN              NaN         NaN   \n",
      "93      0  ...     NaN           NaN      NaN              NaN         NaN   \n",
      "92      0  ...     NaN           NaN      NaN              NaN         NaN   \n",
      "94      0  ...     NaN           NaN      NaN              NaN         NaN   \n",
      "\n",
      "                                             Write-up         VBD Mods  \\\n",
      "0   Cooper Kupp enjoyed 2-hour breakfasts with Mat...         Drafteds   \n",
      "5   Davante Adams was a monster in 2021, posting t...  Active Starters   \n",
      "20  Keenan Allen has registered 97 receptions or m...              NaN   \n",
      "4   Stefon Diggs didn't have the same number of re...         VBD Mods   \n",
      "17  Amon-Ra St. Brown had a quiet start to his roo...              NaN   \n",
      "..                                                ...              ...   \n",
      "81  Velus Jones has great deep speed and will have...              NaN   \n",
      "91  Terrace Marshall caught 10 passes in his first...              NaN   \n",
      "93  John Metchie has leukemia and will almost cert...              NaN   \n",
      "92   Tim Patrick is out for the year with a torn ACL.              NaN   \n",
      "94                         Suspended for all of 2022.              NaN   \n",
      "\n",
      "    Unnamed: 26  Vmodes  WRs  \n",
      "0           NaN   V_Reg  NaN  \n",
      "5           NaN    V-TD  NaN  \n",
      "20          NaN     NaN  NaN  \n",
      "4           NaN  Vmodes   WR  \n",
      "17          NaN     NaN  NaN  \n",
      "..          ...     ...  ...  \n",
      "81          NaN     NaN  NaN  \n",
      "91          NaN     NaN  NaN  \n",
      "93          NaN     NaN  NaN  \n",
      "92          NaN     NaN  NaN  \n",
      "94          NaN     NaN  NaN  \n",
      "\n",
      "[95 rows x 29 columns]\n"
     ]
    }
   ],
   "source": [
    "print(wrs)"
   ]
  },
  {
   "cell_type": "code",
   "execution_count": null,
   "metadata": {},
   "outputs": [],
   "source": [
    "tes.sort_values(by='REC YDS', ascending=False)"
   ]
  },
  {
   "cell_type": "code",
   "execution_count": null,
   "metadata": {},
   "outputs": [],
   "source": [
    "qbs.sort_values(by='PASS TD', ascending=False)"
   ]
  },
  {
   "cell_type": "code",
   "execution_count": null,
   "metadata": {},
   "outputs": [],
   "source": [
    "rbs.sort_values(by='RUSH YDS', ascending=False)"
   ]
  }
 ],
 "metadata": {
  "kernelspec": {
   "display_name": "base",
   "language": "python",
   "name": "python3"
  },
  "language_info": {
   "codemirror_mode": {
    "name": "ipython",
    "version": 3
   },
   "file_extension": ".py",
   "mimetype": "text/x-python",
   "name": "python",
   "nbconvert_exporter": "python",
   "pygments_lexer": "ipython3",
   "version": "3.9.12"
  },
  "orig_nbformat": 4
 },
 "nbformat": 4,
 "nbformat_minor": 2
}
