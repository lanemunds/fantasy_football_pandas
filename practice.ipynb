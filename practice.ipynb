{
 "cells": [
  {
   "cell_type": "code",
   "execution_count": 9,
   "metadata": {},
   "outputs": [],
   "source": [
    "import pandas as pd\n",
    "BASE_DIR ='./football.xlsx'\n",
    "players = pd.read_excel(BASE_DIR, sheet_name=[\"QBs\",'RBs','WRs','TEs','Ks','DEFs','All','By Post','League Boundaries','Vars','Notes','Sheet2'])"
   ]
  },
  {
   "cell_type": "code",
   "execution_count": 15,
   "metadata": {},
   "outputs": [],
   "source": [
    "qbs = players.get('QBs')\n",
    "rbs = players.get('RBs')\n",
    "wrs = players.get('WRs')\n",
    "tes = players.get('TEs')"
   ]
  },
  {
   "cell_type": "code",
   "execution_count": 16,
   "metadata": {},
   "outputs": [
    {
     "name": "stdout",
     "output_type": "stream",
     "text": [
      "    Last Name First Name      Team  Bye Pos  PASS YDS  PASS TD  INT  RUSH YDS  \\\n",
      "0        Kupp     Cooper      Rams    7  WR       NaN      NaN  NaN       NaN   \n",
      "1       Chase    Ja'Marr   Bengals   10  WR       NaN      NaN  NaN       NaN   \n",
      "2   Jefferson     Justin   Vikings    7  WR       NaN      NaN  NaN       NaN   \n",
      "3        Lamb     CeeDee   Cowboys    9  WR       NaN      NaN  NaN       NaN   \n",
      "4       Diggs     Stefon     Bills    7  WR       NaN      NaN  NaN       NaN   \n",
      "..        ...        ...       ...  ...  ..       ...      ...  ...       ...   \n",
      "90       Bell      David    Browns    6  WR       NaN      NaN  NaN       NaN   \n",
      "91   Marshall    Terrace  Panthers   13  WR       NaN      NaN  NaN       NaN   \n",
      "92    Patrick        Tim   Broncos    9  WR       NaN      NaN  NaN       NaN   \n",
      "93    Metchie       John    Texans    6  WR       NaN      NaN  NaN       NaN   \n",
      "94     Ridley     Calvin   Falcons   14  WR       NaN      NaN  NaN       NaN   \n",
      "\n",
      "    CATCH  ...  TD VBD  Points (2QB)  VBD 2QB  Points (Custom)  VBD Custom  \\\n",
      "0     132  ...     NaN           NaN      NaN              NaN         NaN   \n",
      "1      83  ...     NaN           NaN      NaN              NaN         NaN   \n",
      "2      98  ...     NaN           NaN      NaN              NaN         NaN   \n",
      "3      94  ...     NaN           NaN      NaN              NaN         NaN   \n",
      "4     105  ...     NaN           NaN      NaN              NaN         NaN   \n",
      "..    ...  ...     ...           ...      ...              ...         ...   \n",
      "90     35  ...     NaN           NaN      NaN              NaN         NaN   \n",
      "91     34  ...     NaN           NaN      NaN              NaN         NaN   \n",
      "92      0  ...     NaN           NaN      NaN              NaN         NaN   \n",
      "93      0  ...     NaN           NaN      NaN              NaN         NaN   \n",
      "94      0  ...     NaN           NaN      NaN              NaN         NaN   \n",
      "\n",
      "                                             Write-up  VBD Mods  Unnamed: 26  \\\n",
      "0   Cooper Kupp enjoyed 2-hour breakfasts with Mat...  Drafteds          NaN   \n",
      "1   So much for all of those drops in the preseaso...  Starters          NaN   \n",
      "2   Justin Jefferson had an amazing rookie year, a...       NaN          NaN   \n",
      "3   CeeDee Lamb improved upon his rookie campaign ...  Drafteds          NaN   \n",
      "4   Stefon Diggs didn't have the same number of re...  VBD Mods          NaN   \n",
      "..                                                ...       ...          ...   \n",
      "90  David Bell has a chance to be Cleveland's thir...       NaN          NaN   \n",
      "91  Terrace Marshall caught 10 passes in his first...       NaN          NaN   \n",
      "92   Tim Patrick is out for the year with a torn ACL.       NaN          NaN   \n",
      "93  John Metchie has leukemia and will almost cert...       NaN          NaN   \n",
      "94                         Suspended for all of 2022.       NaN          NaN   \n",
      "\n",
      "      Vmodes  WRs  \n",
      "0      V_Reg  NaN  \n",
      "1      V-PPR  NaN  \n",
      "2        NaN  NaN  \n",
      "3   V-Custom  NaN  \n",
      "4     Vmodes   WR  \n",
      "..       ...  ...  \n",
      "90       NaN  NaN  \n",
      "91       NaN  NaN  \n",
      "92       NaN  NaN  \n",
      "93       NaN  NaN  \n",
      "94       NaN  NaN  \n",
      "\n",
      "[95 rows x 29 columns]\n"
     ]
    }
   ],
   "source": [
    "print(wrs)"
   ]
  }
 ],
 "metadata": {
  "kernelspec": {
   "display_name": "base",
   "language": "python",
   "name": "python3"
  },
  "language_info": {
   "codemirror_mode": {
    "name": "ipython",
    "version": 3
   },
   "file_extension": ".py",
   "mimetype": "text/x-python",
   "name": "python",
   "nbconvert_exporter": "python",
   "pygments_lexer": "ipython3",
   "version": "3.9.12"
  },
  "orig_nbformat": 4
 },
 "nbformat": 4,
 "nbformat_minor": 2
}
